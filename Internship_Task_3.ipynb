{
  "nbformat": 4,
  "nbformat_minor": 0,
  "metadata": {
    "colab": {
      "provenance": [],
      "authorship_tag": "ABX9TyMJ8J8+rG8xOKKk5fy8Ae95",
      "include_colab_link": true
    },
    "kernelspec": {
      "name": "python3",
      "display_name": "Python 3"
    },
    "language_info": {
      "name": "python"
    }
  },
  "cells": [
    {
      "cell_type": "markdown",
      "metadata": {
        "id": "view-in-github",
        "colab_type": "text"
      },
      "source": [
        "<a href=\"https://colab.research.google.com/github/zainabhameed24/Zainab-Hameed_Intership_of_Developer-_Hub_Corporations_Tasks/blob/main/Internship_Task_3.ipynb\" target=\"_parent\"><img src=\"https://colab.research.google.com/assets/colab-badge.svg\" alt=\"Open In Colab\"/></a>"
      ]
    },
    {
      "cell_type": "markdown",
      "source": [
        "# **Task 3: Customer Churn Prediction (Bank Customers)**\n",
        "Objective: Identify customers who are likely to leave the bank.\n",
        "\n",
        "Dataset: Churn Modelling Datase"
      ],
      "metadata": {
        "id": "wjpvs1zhJK8K"
      }
    },
    {
      "cell_type": "markdown",
      "source": [
        "# **Clean and prepare the dataset.**"
      ],
      "metadata": {
        "id": "PWa6sVz0JT2j"
      }
    },
    {
      "cell_type": "markdown",
      "source": [
        "● Encode categorical features such as geography and gender.\n"
      ],
      "metadata": {
        "id": "6_H5y1ZOJgjt"
      }
    },
    {
      "cell_type": "code",
      "execution_count": 2,
      "metadata": {
        "colab": {
          "base_uri": "https://localhost:8080/"
        },
        "id": "u30sMr61I9sk",
        "outputId": "6b902069-ea9e-41f7-81ba-a7d99e4a8fac"
      },
      "outputs": [
        {
          "output_type": "stream",
          "name": "stdout",
          "text": [
            "   RowNumber  CustomerId   Surname  CreditScore Geography  Gender  Age  \\\n",
            "0          1    15634602  Hargrave          619    France  Female   42   \n",
            "1          2    15647311      Hill          608     Spain  Female   41   \n",
            "\n",
            "   Tenure   Balance  NumOfProducts  HasCrCard  IsActiveMember  \\\n",
            "0       2      0.00              1          1               1   \n",
            "1       1  83807.86              1          0               1   \n",
            "\n",
            "   EstimatedSalary  Exited  \n",
            "0        101348.88       1  \n",
            "1        112542.58       0  \n",
            "   CreditScore  Gender  Age  Tenure    Balance  NumOfProducts  HasCrCard  \\\n",
            "0          619       0   42       2       0.00              1          1   \n",
            "1          608       0   41       1   83807.86              1          0   \n",
            "2          502       0   42       8  159660.80              3          1   \n",
            "3          699       0   39       1       0.00              2          0   \n",
            "4          850       0   43       2  125510.82              1          1   \n",
            "\n",
            "   IsActiveMember  EstimatedSalary  Exited  Geography_France  \\\n",
            "0               1        101348.88       1              True   \n",
            "1               1        112542.58       0             False   \n",
            "2               0        113931.57       1              True   \n",
            "3               0         93826.63       0              True   \n",
            "4               1         79084.10       0             False   \n",
            "\n",
            "   Geography_Germany  Geography_Spain  \n",
            "0              False            False  \n",
            "1              False             True  \n",
            "2              False            False  \n",
            "3              False            False  \n",
            "4              False             True  \n",
            "<class 'pandas.core.frame.DataFrame'>\n",
            "RangeIndex: 10000 entries, 0 to 9999\n",
            "Data columns (total 13 columns):\n",
            " #   Column             Non-Null Count  Dtype  \n",
            "---  ------             --------------  -----  \n",
            " 0   CreditScore        10000 non-null  int64  \n",
            " 1   Gender             10000 non-null  int8   \n",
            " 2   Age                10000 non-null  int64  \n",
            " 3   Tenure             10000 non-null  int64  \n",
            " 4   Balance            10000 non-null  float64\n",
            " 5   NumOfProducts      10000 non-null  int64  \n",
            " 6   HasCrCard          10000 non-null  int64  \n",
            " 7   IsActiveMember     10000 non-null  int64  \n",
            " 8   EstimatedSalary    10000 non-null  float64\n",
            " 9   Exited             10000 non-null  int64  \n",
            " 10  Geography_France   10000 non-null  bool   \n",
            " 11  Geography_Germany  10000 non-null  bool   \n",
            " 12  Geography_Spain    10000 non-null  bool   \n",
            "dtypes: bool(3), float64(2), int64(7), int8(1)\n",
            "memory usage: 742.3 KB\n",
            "None\n"
          ]
        }
      ],
      "source": [
        "import pandas as pd\n",
        "from sklearn.preprocessing import LabelEncoder\n",
        "from sklearn.model_selection import train_test_split\n",
        "from sklearn.ensemble import RandomForestClassifier\n",
        "from sklearn.metrics import classification_report\n",
        "import matplotlib.pyplot as plt\n",
        "import seaborn as sns\n",
        "\n",
        "# Load data\n",
        "df = pd.read_csv(\"/content/Churn_Modelling.csv\")\n",
        "print(df.head(2))\n",
        "# Drop unnecessary columns\n",
        "df = df.drop(columns=['RowNumber', 'CustomerId', 'Surname'])\n",
        "\n",
        "# Encode 'Gender'\n",
        "df['Gender'] = df['Gender'].astype('category').cat.codes\n",
        "\n",
        "# One-hot encode 'Geography'\n",
        "data_onehot = pd.get_dummies(df['Geography'], prefix='Geography')\n",
        "\n",
        "# Combine with original DataFrame\n",
        "df = pd.concat([df.drop(columns=['Geography']), data_onehot], axis=1)\n",
        "\n",
        "# View result\n",
        "print(df.head())\n",
        "print(df.info())"
      ]
    },
    {
      "cell_type": "markdown",
      "source": [
        "# **Explanation**\n",
        "\n",
        "This dataset is about bank customers and whether they left the bank (Exited). It includes details like age, gender, country, credit score, balance, and salary. Features such as IsActiveMember and HasCrCard help understand customer behavior. The goal is to predict churn (1 = left, 0 = stayed) based on these features."
      ],
      "metadata": {
        "id": "EwEbgztZKQ8F"
      }
    },
    {
      "cell_type": "markdown",
      "source": [
        "**Train a classification model.**"
      ],
      "metadata": {
        "id": "suFhO4eeKXKi"
      }
    },
    {
      "cell_type": "code",
      "source": [
        "#Split data and train a classification model\n",
        "X = df.drop('Exited', axis=1)  # Features\n",
        "y = df['Exited']               # Target\n",
        "\n",
        "# Split into training and testing sets\n",
        "X_train, X_test, y_train, y_test = train_test_split(X, y, test_size=0.2, random_state=42)\n",
        "\n",
        "# Train Random Forest classifier\n",
        "model = RandomForestClassifier(random_state=42)\n",
        "model.fit(X_train, y_train)\n",
        "\n",
        "# Predict on test set\n",
        "y_pred = model.predict(X_test)\n",
        "\n",
        "# Print classification report\n",
        "print(\" Classification Report:\")\n",
        "print(classification_report(y_test, y_pred))"
      ],
      "metadata": {
        "colab": {
          "base_uri": "https://localhost:8080/"
        },
        "id": "YVHVSm3fKZnq",
        "outputId": "0cea41f2-4965-4c2d-c63e-4b2777a2c764"
      },
      "execution_count": 3,
      "outputs": [
        {
          "output_type": "stream",
          "name": "stdout",
          "text": [
            " Classification Report:\n",
            "              precision    recall  f1-score   support\n",
            "\n",
            "           0       0.88      0.96      0.92      1607\n",
            "           1       0.76      0.47      0.58       393\n",
            "\n",
            "    accuracy                           0.87      2000\n",
            "   macro avg       0.82      0.72      0.75      2000\n",
            "weighted avg       0.86      0.87      0.85      2000\n",
            "\n"
          ]
        }
      ]
    },
    {
      "cell_type": "markdown",
      "source": [
        "**Explanation**\n",
        "\n",
        "This classification report shows how well the model predicts customer churn. It correctly identifies 96% of non-churners (class 0) but only 47% of churners (class 1). Overall accuracy is 87%, meaning the model is right 87% of the time. However, it performs better on customers who stayed than those who left."
      ],
      "metadata": {
        "id": "LkWfxYcIKhuW"
      }
    },
    {
      "cell_type": "markdown",
      "source": [
        "Analyze feature importance to understand what influences churn."
      ],
      "metadata": {
        "id": "mWme3nKwKpqa"
      }
    },
    {
      "cell_type": "code",
      "source": [
        "#Analyze feature importance\n",
        "importances = model.feature_importances_\n",
        "features = X.columns\n",
        "\n",
        "# Plot feature importances\n",
        "plt.figure(figsize=(20, 6))\n",
        "sns.barplot(x=features, y=importances)\n",
        "plt.title(\" Feature Importance for Churn Prediction\")\n",
        "plt.xlabel(\"features\")\n",
        "plt.ylabel(\"Importance score\")\n",
        "plt.tight_layout()\n",
        "plt.show()"
      ],
      "metadata": {
        "colab": {
          "base_uri": "https://localhost:8080/",
          "height": 349
        },
        "id": "hSgDVrMiKkw3",
        "outputId": "f99fa974-8763-4795-a05c-5ef21ac6a0a9"
      },
      "execution_count": 4,
      "outputs": [
        {
          "output_type": "display_data",
          "data": {
            "text/plain": [
              "<Figure size 2000x600 with 1 Axes>"
            ],
            "image/png": "[encoded data removed]"
          },
          "metadata": {}
        }
      ]
    },
    {
      "cell_type": "markdown",
      "source": [
        "# **Explanation**\n",
        "This bar chart shows which features (columns) are most important for predicting customer churn using a machine learning model.\n",
        "\n",
        "Age is the most important factor — older customers are more likely to leave.\n",
        "\n",
        "CreditScore, Balance, EstimatedSalary, and NumOfProducts also have a strong influence.\n",
        "\n",
        "Gender, HasCrCard, and Geography have very little impact on the prediction.\n",
        "\n",
        "The model learns from these features to decide whether a customer will stay or leave"
      ],
      "metadata": {
        "id": "DIvzmMGWKxKi"
      }
    }
  ]
}